{
 "cells": [
  {
   "cell_type": "markdown",
   "id": "aca5b2a2-80cd-45ac-a3a4-11919cff06b5",
   "metadata": {},
   "source": [
    "### 1) Using the python print function print any string value, integer value, boolean value, float value in single print command"
   ]
  },
  {
   "cell_type": "code",
   "execution_count": 22,
   "id": "e133f19f-6e7e-4331-a89e-d1528a171373",
   "metadata": {},
   "outputs": [
    {
     "name": "stdout",
     "output_type": "stream",
     "text": [
      "Pakistan 56 True False False 56.8\n"
     ]
    }
   ],
   "source": [
    "print(\"Pakistan\",56 , 9>=8, 9==8, 9<=8, 56.8)"
   ]
  },
  {
   "cell_type": "markdown",
   "id": "dbfc36fc-1f4a-4c67-92eb-ac5f96e39d59",
   "metadata": {},
   "source": [
    "### 2) Using the python print function print hyphon(-) separated any string value, integer value, boolean value, float value in single print command"
   ]
  },
  {
   "cell_type": "code",
   "execution_count": 27,
   "id": "05f504c1-bbcb-4829-b3d3-ce0298d256e6",
   "metadata": {},
   "outputs": [
    {
     "name": "stdout",
     "output_type": "stream",
     "text": [
      "Pskistan-56-False-67.5\n"
     ]
    }
   ],
   "source": [
    "print(\"Pskistan\",56, 9==8,67.5, sep=\"-\")"
   ]
  },
  {
   "cell_type": "markdown",
   "id": "bd89a814-7eb4-44b0-b45f-427079056c77",
   "metadata": {},
   "source": [
    "### 3) Using the python print function print any string value, integer value, boolean value, float value in separate print command.But every value must be space separated and in single line"
   ]
  },
  {
   "cell_type": "code",
   "execution_count": 35,
   "id": "116c8a97-9c95-4bf2-9d21-d5aa23a39e66",
   "metadata": {},
   "outputs": [
    {
     "name": "stdout",
     "output_type": "stream",
     "text": [
      "Pakistan 89 False 98.6\n"
     ]
    }
   ],
   "source": [
    "print(\"Pakistan\", end=\" \")\n",
    "print(89, end=\" \")\n",
    "print(8==6, end=\" \")\n",
    "print (98.6) "
   ]
  },
  {
   "cell_type": "markdown",
   "id": "e5a935c7-2680-4db8-9b58-88dd32969cbc",
   "metadata": {},
   "source": [
    "### 4) Can a python print function take no value to print???"
   ]
  },
  {
   "cell_type": "code",
   "execution_count": 38,
   "id": "ef1e66a8-4d90-4a15-ab0e-a30ae14e3638",
   "metadata": {},
   "outputs": [
    {
     "name": "stdout",
     "output_type": "stream",
     "text": [
      "Shez\n",
      "\n",
      "76\n"
     ]
    }
   ],
   "source": [
    "print(\"Shez\")\n",
    "print()\n",
    "print(76)"
   ]
  },
  {
   "cell_type": "markdown",
   "id": "b5c07d22-d9c8-433a-a816-d9c4280aff5a",
   "metadata": {},
   "source": [
    "# # TOPIC :Variables in Python Operators"
   ]
  },
  {
   "cell_type": "markdown",
   "id": "bd328697-9046-47f4-b3d1-5bc6b0eedbe5",
   "metadata": {},
   "source": [
    "### 5) One of my friends name is Mr. Ahmed. He is 30 years old.  He is a lawer by profession. He has done his bachelors in law in the year 2005. He is working with a reputable law firm 'The Himalya Associates' in Karachi since 2015. He is a handsome lawer with height of 5.10 feets and weight 70600g. His monthly income is Rs. 200k PKR. Note: Create variables from above text and also assign values from the text. "
   ]
  },
  {
   "cell_type": "markdown",
   "id": "84ef4534-41bd-4c26-8c41-34a804625eb4",
   "metadata": {},
   "source": [
    "## BASIC INFORMATION :"
   ]
  },
  {
   "cell_type": "code",
   "execution_count": 52,
   "id": "c1ee8d88-52fb-45a7-8d7c-21c9175c4231",
   "metadata": {},
   "outputs": [],
   "source": [
    "name= \"MR. Ahmed\""
   ]
  },
  {
   "cell_type": "code",
   "execution_count": 54,
   "id": "68a83641-f1a2-42a5-b396-d0743a9479ab",
   "metadata": {},
   "outputs": [],
   "source": [
    "age= 30"
   ]
  },
  {
   "cell_type": "code",
   "execution_count": 56,
   "id": "4f5123c0-8c14-4a22-8309-f49d176157d5",
   "metadata": {},
   "outputs": [],
   "source": [
    "profession = \"Lawyer\""
   ]
  },
  {
   "cell_type": "code",
   "execution_count": 108,
   "id": "e15ae8bc-f5e7-47c7-9768-d42367f347d5",
   "metadata": {},
   "outputs": [],
   "source": [
    "qualification = \"Bachelors\""
   ]
  },
  {
   "cell_type": "code",
   "execution_count": 96,
   "id": "7cfa495f-c16a-41fe-bafc-94d982c271a4",
   "metadata": {},
   "outputs": [],
   "source": [
    "bachlor_year = 2005"
   ]
  },
  {
   "cell_type": "code",
   "execution_count": 110,
   "id": "a73a1d26-5af8-47d7-b2ae-dae72df1d344",
   "metadata": {},
   "outputs": [],
   "source": [
    "current_year = 2024"
   ]
  },
  {
   "cell_type": "markdown",
   "id": "89dcce4c-9413-482c-b173-f421abe62054",
   "metadata": {},
   "source": [
    "## EMPLOYER DETAIL :"
   ]
  },
  {
   "cell_type": "code",
   "execution_count": 64,
   "id": "ff3b75b7-89ff-4bef-8f5b-be90bd7f50f8",
   "metadata": {},
   "outputs": [],
   "source": [
    "employer= \"The Himalya Associates\""
   ]
  },
  {
   "cell_type": "code",
   "execution_count": 66,
   "id": "56eeca55-2a43-4503-8b8f-614fa1518960",
   "metadata": {},
   "outputs": [],
   "source": [
    "location = \"Karachi\""
   ]
  },
  {
   "cell_type": "code",
   "execution_count": 68,
   "id": "a14b0f84-cc2e-41fa-b612-7654acf9169b",
   "metadata": {},
   "outputs": [],
   "source": [
    "Employment_start_year = 2015"
   ]
  },
  {
   "cell_type": "markdown",
   "id": "6057c808-7994-408f-bae3-dead8e025f8d",
   "metadata": {},
   "source": [
    "## PHYSICAL ATTRIBUTES :"
   ]
  },
  {
   "cell_type": "code",
   "execution_count": 74,
   "id": "b7c1953c-b630-42b0-a804-0e719a51014c",
   "metadata": {},
   "outputs": [],
   "source": [
    "height_feet = 5.10"
   ]
  },
  {
   "cell_type": "code",
   "execution_count": 76,
   "id": "6930562d-5160-4752-917e-58b4c327a33d",
   "metadata": {},
   "outputs": [],
   "source": [
    "weight_grams = 70600"
   ]
  },
  {
   "cell_type": "markdown",
   "id": "1dc879ee-35fc-4e61-a7ff-de1ed3a4105d",
   "metadata": {},
   "source": [
    "## FINANCIAL DETAILS :"
   ]
  },
  {
   "cell_type": "code",
   "execution_count": 167,
   "id": "13cfb223-2679-4214-964f-0130476f9e21",
   "metadata": {},
   "outputs": [],
   "source": [
    "monthly_income_pkr = 200000"
   ]
  },
  {
   "cell_type": "markdown",
   "id": "d31965a7-7efb-47ed-aafa-e3bcdc87525b",
   "metadata": {},
   "source": [
    "### 6)How many years has been to Mr. Ahmed after his bachelors degree? Create a variable that hold current year value and then subtract it from his passout year"
   ]
  },
  {
   "cell_type": "code",
   "execution_count": 128,
   "id": "2abf493b-1d46-4fa2-9883-c694a57bd834",
   "metadata": {},
   "outputs": [],
   "source": [
    "years_after_bachlors = current_year - bachlor_year"
   ]
  },
  {
   "cell_type": "code",
   "execution_count": 130,
   "id": "1cbf5561-eba9-4ee9-b02d-2a98e9c001f8",
   "metadata": {},
   "outputs": [
    {
     "data": {
      "text/plain": [
       "19"
      ]
     },
     "execution_count": 130,
     "metadata": {},
     "output_type": "execute_result"
    }
   ],
   "source": [
    "years_after_bachlors "
   ]
  },
  {
   "cell_type": "markdown",
   "id": "e8f31719-f338-4c0f-a3e1-81e957bf372b",
   "metadata": {},
   "source": [
    "### 7) How many years has Mr. Ahmed been working with law firm 'The Himalya Associates'. Create necesary variables and print the correct number of years in working in the firm"
   ]
  },
  {
   "cell_type": "code",
   "execution_count": 146,
   "id": "95cc3576-ebac-46dd-a1dc-7c2deab620fa",
   "metadata": {},
   "outputs": [],
   "source": [
    "years_in_law_firm = current_year - Employment_start_year"
   ]
  },
  {
   "cell_type": "code",
   "execution_count": 148,
   "id": "5536efb5-f891-404e-a83b-16c3028c73e9",
   "metadata": {},
   "outputs": [
    {
     "data": {
      "text/plain": [
       "9"
      ]
     },
     "execution_count": 148,
     "metadata": {},
     "output_type": "execute_result"
    }
   ],
   "source": [
    "years_in_law_firm"
   ]
  },
  {
   "cell_type": "markdown",
   "id": "39de1c87-6efd-4b03-8388-bf0ed567a1a9",
   "metadata": {},
   "source": [
    "### 8)Convert the monthly income of Mr. Ahmed in dollars.  Create necesary variables and print the income in dollars."
   ]
  },
  {
   "cell_type": "code",
   "execution_count": 163,
   "id": "5270c288-8658-492a-a99f-d1880e0b6c45",
   "metadata": {},
   "outputs": [],
   "source": [
    "usd_to_pkr_exchange_rate = 285.5"
   ]
  },
  {
   "cell_type": "code",
   "execution_count": 211,
   "id": "e382dca8-9bd6-454f-bc7d-a2be2d63aca1",
   "metadata": {},
   "outputs": [],
   "source": [
    "monthly_income_usd = monthly_income_pkr / usd_to_pkr_exchange_rate"
   ]
  },
  {
   "cell_type": "code",
   "execution_count": 215,
   "id": "dfb693dd-f5eb-4f58-8772-e005aa06cd53",
   "metadata": {},
   "outputs": [
    {
     "data": {
      "text/plain": [
       "700.5253940455342"
      ]
     },
     "execution_count": 215,
     "metadata": {},
     "output_type": "execute_result"
    }
   ],
   "source": [
    "monthly_income_usd"
   ]
  },
  {
   "cell_type": "markdown",
   "id": "46c264ec-dedd-4d67-9b1f-f82545357557",
   "metadata": {},
   "source": [
    "### 9) Check if the income in dollars is a float or integer value. if it is float, re-write the code so that income gets converted in integer. print the income in integer type value"
   ]
  },
  {
   "cell_type": "code",
   "execution_count": 217,
   "id": "54dff534-ec2a-4a08-9f38-d03a01a4caed",
   "metadata": {},
   "outputs": [
    {
     "data": {
      "text/plain": [
       "float"
      ]
     },
     "execution_count": 217,
     "metadata": {},
     "output_type": "execute_result"
    }
   ],
   "source": [
    "type(monthly_income_usd)"
   ]
  },
  {
   "cell_type": "code",
   "execution_count": 219,
   "id": "60d129d3-c423-4332-b8d3-c46342ab38ca",
   "metadata": {},
   "outputs": [
    {
     "data": {
      "text/plain": [
       "700"
      ]
     },
     "execution_count": 219,
     "metadata": {},
     "output_type": "execute_result"
    }
   ],
   "source": [
    "int(monthly_income_usd)"
   ]
  },
  {
   "cell_type": "markdown",
   "id": "095553d9-965b-4145-97a7-216d5814ec0a",
   "metadata": {},
   "source": [
    "### 10) Print the type of Mr. Ahmed's weight. Convert the weight of Mr. Ahmed in kg so that weight must be a integer value."
   ]
  },
  {
   "cell_type": "code",
   "execution_count": 222,
   "id": "1b738692-601d-4e0e-a2fb-cffec81a41a3",
   "metadata": {},
   "outputs": [
    {
     "data": {
      "text/plain": [
       "int"
      ]
     },
     "execution_count": 222,
     "metadata": {},
     "output_type": "execute_result"
    }
   ],
   "source": [
    "type(weight_grams)weight_grams"
   ]
  },
  {
   "cell_type": "code",
   "execution_count": 224,
   "id": "577ed255-5a90-4dc3-b0a0-5e47ff74f72d",
   "metadata": {},
   "outputs": [],
   "source": [
    "weight_kg = weight_grams / 1000"
   ]
  },
  {
   "cell_type": "code",
   "execution_count": 226,
   "id": "b79d33f2-7ee1-41f0-bdb3-bc2984193146",
   "metadata": {},
   "outputs": [
    {
     "data": {
      "text/plain": [
       "70.6"
      ]
     },
     "execution_count": 226,
     "metadata": {},
     "output_type": "execute_result"
    }
   ],
   "source": [
    "weight_kg"
   ]
  },
  {
   "cell_type": "code",
   "execution_count": 230,
   "id": "a9730d60-6da1-464d-bdf6-aee6b2693074",
   "metadata": {},
   "outputs": [
    {
     "data": {
      "text/plain": [
       "70"
      ]
     },
     "execution_count": 230,
     "metadata": {},
     "output_type": "execute_result"
    }
   ],
   "source": [
    "int(weight_kg)"
   ]
  },
  {
   "cell_type": "markdown",
   "id": "2e016b0c-f143-428a-96d1-b105d6e8a947",
   "metadata": {},
   "source": [
    "### 11) print the year of birth of Mr. Ahmed."
   ]
  },
  {
   "cell_type": "code",
   "execution_count": 233,
   "id": "00970c42-2361-4c7b-a01f-4778a5eb6685",
   "metadata": {},
   "outputs": [],
   "source": [
    "Date_of_birth = current_year - age"
   ]
  },
  {
   "cell_type": "code",
   "execution_count": 237,
   "id": "138f713c-f5b8-4d1a-aa1a-fc1864393550",
   "metadata": {},
   "outputs": [
    {
     "data": {
      "text/plain": [
       "1994"
      ]
     },
     "execution_count": 237,
     "metadata": {},
     "output_type": "execute_result"
    }
   ],
   "source": [
    "Date_of_birth"
   ]
  },
  {
   "cell_type": "markdown",
   "id": "4950e56d-e9a2-4a00-9a2e-9ecca2ecc004",
   "metadata": {},
   "source": [
    "### 12) Can Rs. 100 be divided equally among 6 students?\n",
    "HINT: % operator (modulo)"
   ]
  },
  {
   "cell_type": "code",
   "execution_count": 246,
   "id": "2bcabd7d-4107-434e-bd6f-415df8879d00",
   "metadata": {},
   "outputs": [],
   "source": [
    "total_amount = 100"
   ]
  },
  {
   "cell_type": "code",
   "execution_count": 248,
   "id": "3cfb6822-dbd6-4e98-8b1c-bfff1156198c",
   "metadata": {},
   "outputs": [],
   "source": [
    "number_of_students = 6"
   ]
  },
  {
   "cell_type": "code",
   "execution_count": 250,
   "id": "6b98cc72-d0ed-4f7a-8392-e7f90e61699b",
   "metadata": {},
   "outputs": [],
   "source": [
    "remainder = total_amount % number_of_students"
   ]
  },
  {
   "cell_type": "code",
   "execution_count": 252,
   "id": "b253f0b6-db3e-442e-8e23-ac6f87d78d97",
   "metadata": {},
   "outputs": [
    {
     "data": {
      "text/plain": [
       "4"
      ]
     },
     "execution_count": 252,
     "metadata": {},
     "output_type": "execute_result"
    }
   ],
   "source": [
    "remainder"
   ]
  },
  {
   "cell_type": "code",
   "execution_count": 254,
   "id": "555c5f9d-ab9b-4af5-acd5-dccf1c83caef",
   "metadata": {},
   "outputs": [],
   "source": [
    "division = total_amount / number_of_students"
   ]
  },
  {
   "cell_type": "code",
   "execution_count": 256,
   "id": "4f6243d7-3829-4799-988e-1dc5b63b6d05",
   "metadata": {},
   "outputs": [
    {
     "data": {
      "text/plain": [
       "16.666666666666668"
      ]
     },
     "execution_count": 256,
     "metadata": {},
     "output_type": "execute_result"
    }
   ],
   "source": [
    "division"
   ]
  },
  {
   "cell_type": "code",
   "execution_count": 260,
   "id": "45f4179d-7bf8-4c94-8717-10bf8efd4519",
   "metadata": {},
   "outputs": [
    {
     "data": {
      "text/plain": [
       "16"
      ]
     },
     "execution_count": 260,
     "metadata": {},
     "output_type": "execute_result"
    }
   ],
   "source": [
    "int(division)"
   ]
  }
 ],
 "metadata": {
  "kernelspec": {
   "display_name": "Python 3 (ipykernel)",
   "language": "python",
   "name": "python3"
  },
  "language_info": {
   "codemirror_mode": {
    "name": "ipython",
    "version": 3
   },
   "file_extension": ".py",
   "mimetype": "text/x-python",
   "name": "python",
   "nbconvert_exporter": "python",
   "pygments_lexer": "ipython3",
   "version": "3.12.7"
  }
 },
 "nbformat": 4,
 "nbformat_minor": 5
}
