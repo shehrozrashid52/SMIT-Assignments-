{
 "cells": [
  {
   "cell_type": "code",
   "execution_count": 1,
   "id": "ff529ccc-5e3d-4de8-80a3-b6a77530bf20",
   "metadata": {},
   "outputs": [
    {
     "name": "stdout",
     "output_type": "stream",
     "text": [
      "Welcome to the Banking System!\n",
      "\n",
      "Choose an option:\n",
      "1. Create Account\n",
      "2. Deposit Money\n",
      "3. Withdraw Money\n",
      "4. Check Balance\n",
      "5. Print Statement\n",
      "6. Exit\n"
     ]
    },
    {
     "name": "stdin",
     "output_type": "stream",
     "text": [
      "Enter your choice (1-6):  1\n",
      "Enter account holder's name:  Shez\n",
      "Enter initial deposit amount (or 0):  10000\n"
     ]
    },
    {
     "name": "stdout",
     "output_type": "stream",
     "text": [
      "Account created for Shez with initial balance $10000.00.\n",
      "\n",
      "Choose an option:\n",
      "1. Create Account\n",
      "2. Deposit Money\n",
      "3. Withdraw Money\n",
      "4. Check Balance\n",
      "5. Print Statement\n",
      "6. Exit\n"
     ]
    },
    {
     "name": "stdin",
     "output_type": "stream",
     "text": [
      "Enter your choice (1-6):  2\n",
      "Enter account holder's name:  Shez\n",
      "Enter deposit amount:  20000\n"
     ]
    },
    {
     "name": "stdout",
     "output_type": "stream",
     "text": [
      "Deposit: $20000.00. New Balance: $30000.00\n",
      "\n",
      "Choose an option:\n",
      "1. Create Account\n",
      "2. Deposit Money\n",
      "3. Withdraw Money\n",
      "4. Check Balance\n",
      "5. Print Statement\n",
      "6. Exit\n"
     ]
    },
    {
     "name": "stdin",
     "output_type": "stream",
     "text": [
      "Enter your choice (1-6):  4\n",
      "Enter account holder's name:  Shez\n"
     ]
    },
    {
     "name": "stdout",
     "output_type": "stream",
     "text": [
      "Current balance for Shez: $30000.00\n",
      "\n",
      "Choose an option:\n",
      "1. Create Account\n",
      "2. Deposit Money\n",
      "3. Withdraw Money\n",
      "4. Check Balance\n",
      "5. Print Statement\n",
      "6. Exit\n"
     ]
    },
    {
     "name": "stdin",
     "output_type": "stream",
     "text": [
      "Enter your choice (1-6):  6\n"
     ]
    },
    {
     "name": "stdout",
     "output_type": "stream",
     "text": [
      "Thank you for using the Banking System. Goodbye!\n"
     ]
    }
   ],
   "source": [
    "## import json\n",
    "import os\n",
    "\n",
    "# Constants for account and transaction files\n",
    "DATA_FILE = \"accounts.json\"\n",
    "\n",
    "def load_data():\n",
    "    \"\"\"Loads account data from a file if it exists.\"\"\"\n",
    "    if os.path.exists(DATA_FILE):\n",
    "        with open(DATA_FILE, \"r\") as file:\n",
    "            return json.load(file)\n",
    "    return {}\n",
    "\n",
    "def save_data(accounts):\n",
    "    \"\"\"Saves account data to a file.\"\"\"\n",
    "    with open(DATA_FILE, \"w\") as file:\n",
    "        json.dump(accounts, file, indent=4)\n",
    "\n",
    "def create_account(accounts):\n",
    "    \"\"\"Creates a new account.\"\"\"\n",
    "    name = input(\"Enter account holder's name: \").strip()\n",
    "    if name in accounts:\n",
    "        print(\"Account with this name already exists.\")\n",
    "        return accounts\n",
    "\n",
    "    initial_balance = float(input(\"Enter initial deposit amount (or 0): \").strip())\n",
    "    accounts[name] = {\"balance\": initial_balance, \"transactions\": []}\n",
    "    print(f\"Account created for {name} with initial balance ${initial_balance:.2f}.\")\n",
    "    save_data(accounts)\n",
    "    return accounts\n",
    "\n",
    "def deposit(accounts):\n",
    "    \"\"\"Deposits money into an account.\"\"\"\n",
    "    name = input(\"Enter account holder's name: \").strip()\n",
    "    if name not in accounts:\n",
    "        print(\"Account does not exist.\")\n",
    "        return accounts\n",
    "\n",
    "    amount = float(input(\"Enter deposit amount: \").strip())\n",
    "    if amount <= 0:\n",
    "        print(\"Deposit amount must be positive.\")\n",
    "        return accounts\n",
    "\n",
    "    accounts[name][\"balance\"] += amount\n",
    "    transaction = f\"Deposit: ${amount:.2f}. New Balance: ${accounts[name]['balance']:.2f}\"\n",
    "    accounts[name][\"transactions\"].append(transaction)\n",
    "    print(transaction)\n",
    "    save_data(accounts)\n",
    "    return accounts\n",
    "\n",
    "def withdraw(accounts):\n",
    "    \"\"\"Withdraws money from an account.\"\"\"\n",
    "    name = input(\"Enter account holder's name: \").strip()\n",
    "    if name not in accounts:\n",
    "        print(\"Account does not exist.\")\n",
    "        return accounts\n",
    "\n",
    "    amount = float(input(\"Enter withdrawal amount: \").strip())\n",
    "    if amount <= 0:\n",
    "        print(\"Withdrawal amount must be positive.\")\n",
    "        return accounts\n",
    "    if amount > accounts[name][\"balance\"]:\n",
    "        print(\"Insufficient balance.\")\n",
    "        return accounts\n",
    "\n",
    "    accounts[name][\"balance\"] -= amount\n",
    "    transaction = f\"Withdrawal: ${amount:.2f}. New Balance: ${accounts[name]['balance']:.2f}\"\n",
    "    accounts[name][\"transactions\"].append(transaction)\n",
    "    print(transaction)\n",
    "    save_data(accounts)\n",
    "    return accounts\n",
    "\n",
    "def check_balance(accounts):\n",
    "    \"\"\"Checks the balance of an account.\"\"\"\n",
    "    name = input(\"Enter account holder's name: \").strip()\n",
    "    if name not in accounts:\n",
    "        print(\"Account does not exist.\")\n",
    "        return\n",
    "\n",
    "    print(f\"Current balance for {name}: ${accounts[name]['balance']:.2f}\")\n",
    "\n",
    "def print_statement(accounts):\n",
    "    \"\"\"Prints the transaction statement of an account.\"\"\"\n",
    "    name = input(\"Enter account holder's name: \").strip()\n",
    "    if name not in accounts:\n",
    "        print(\"Account does not exist.\")\n",
    "        return\n",
    "\n",
    "    print(f\"Account statement for {name}:\")\n",
    "    if not accounts[name][\"transactions\"]:\n",
    "        print(\"No transactions to display.\")\n",
    "    else:\n",
    "        for transaction in accounts[name][\"transactions\"]:\n",
    "            print(f\"- {transaction}\")\n",
    "\n",
    "def main():\n",
    "    \"\"\"Main function to run the banking system.\"\"\"\n",
    "    print(\"Welcome to the Banking System!\")\n",
    "    accounts = load_data()\n",
    "\n",
    "    while True:\n",
    "        print(\"\\nChoose an option:\")\n",
    "        print(\"1. Create Account\")\n",
    "        print(\"2. Deposit Money\")\n",
    "        print(\"3. Withdraw Money\")\n",
    "        print(\"4. Check Balance\")\n",
    "        print(\"5. Print Statement\")\n",
    "        print(\"6. Exit\")\n",
    "\n",
    "        choice = input(\"Enter your choice (1-6): \").strip()\n",
    "        if choice == \"1\":\n",
    "            accounts = create_account(accounts)\n",
    "        elif choice == \"2\":\n",
    "            accounts = deposit(accounts)\n",
    "        elif choice == \"3\":\n",
    "            accounts = withdraw(accounts)\n",
    "        elif choice == \"4\":\n",
    "            check_balance(accounts)\n",
    "        elif choice == \"5\":\n",
    "            print_statement(accounts)\n",
    "        elif choice == \"6\":\n",
    "            print(\"Thank you for using the Banking System. Goodbye!\")\n",
    "            break\n",
    "        else:\n",
    "            print(\"Invalid choice. Please try again.\")\n",
    "\n",
    "if __name__ == \"__main__\":\n",
    "    main()\n"
   ]
  }
 ],
 "metadata": {
  "kernelspec": {
   "display_name": "Python 3 (ipykernel)",
   "language": "python",
   "name": "python3"
  },
  "language_info": {
   "codemirror_mode": {
    "name": "ipython",
    "version": 3
   },
   "file_extension": ".py",
   "mimetype": "text/x-python",
   "name": "python",
   "nbconvert_exporter": "python",
   "pygments_lexer": "ipython3",
   "version": "3.12.7"
  }
 },
 "nbformat": 4,
 "nbformat_minor": 5
}
