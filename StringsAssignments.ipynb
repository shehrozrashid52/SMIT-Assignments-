{
 "cells": [
  {
   "cell_type": "markdown",
   "id": "a381fbfd-d312-4bd5-903a-c7263c914d20",
   "metadata": {},
   "source": [
    "# 1. Write a program that accepts a string from user. Your program should count and display number of  vowels in that string.  "
   ]
  },
  {
   "cell_type": "code",
   "execution_count": 3,
   "id": "27e02bc7-b13a-4b5f-bb56-f18d502b768f",
   "metadata": {},
   "outputs": [
    {
     "name": "stdin",
     "output_type": "stream",
     "text": [
      "Enter a string:  legand\n"
     ]
    },
    {
     "name": "stdout",
     "output_type": "stream",
     "text": [
      "The number of vowels in the string is: 2\n"
     ]
    }
   ],
   "source": [
    "user_string = input(\"Enter a string: \")\n",
    "\n",
    "vowels = \"aeiouAEIOU\"\n",
    "\n",
    "vowel_count = 0\n",
    "\n",
    "for char in user_string:\n",
    "    if char in vowels:\n",
    "        vowel_count += 1\n",
    "\n",
    "print(f\"The number of vowels in the string is: {vowel_count}\")"
   ]
  },
  {
   "cell_type": "markdown",
   "id": "1cf000f7-e580-43bd-8d16-4345467975e0",
   "metadata": {},
   "source": [
    "#  2. Write a program that reads a string from keyboard and display:  \n",
    "* The number of uppercase letters in the string  \n",
    "* The number of lowercase letters in the string  \n",
    "* The number of digits in the string  \n",
    "* The number of whitespace characters in the string  "
   ]
  },
  {
   "cell_type": "code",
   "execution_count": 8,
   "id": "597a46a2-a2ff-43a2-9eb3-390f699a1f66",
   "metadata": {},
   "outputs": [
    {
     "name": "stdin",
     "output_type": "stream",
     "text": [
      "Enter a string:  Let's GOO\n"
     ]
    },
    {
     "name": "stdout",
     "output_type": "stream",
     "text": [
      "Number of uppercase letters: 4\n",
      "Number of lowercase letters: 3\n",
      "Number of digits: 0\n",
      "Number of whitespace characters: 1\n"
     ]
    }
   ],
   "source": [
    "user_string = input(\"Enter a string: \")\n",
    "\n",
    "uppercase_count = 0\n",
    "lowercase_count = 0\n",
    "digit_count = 0\n",
    "whitespace_count = 0\n",
    "\n",
    "for char in user_string:\n",
    "    if char.isupper():\n",
    "        uppercase_count += 1\n",
    "    elif char.islower():\n",
    "        lowercase_count += 1\n",
    "    elif char.isdigit():\n",
    "        digit_count += 1\n",
    "    elif char.isspace():\n",
    "        whitespace_count += 1\n",
    "\n",
    "print(f\"Number of uppercase letters: {uppercase_count}\")\n",
    "print(f\"Number of lowercase letters: {lowercase_count}\")\n",
    "print(f\"Number of digits: {digit_count}\")\n",
    "print(f\"Number of whitespace characters: {whitespace_count}\")\n"
   ]
  },
  {
   "cell_type": "markdown",
   "id": "85ed25a3-4d16-4708-9c5c-2aecedee2d02",
   "metadata": {},
   "source": [
    "#  3. Write a Python program that accepts a string from user. Your program should create and display a  new string where the first and last characters have been exchanged.  "
   ]
  },
  {
   "cell_type": "code",
   "execution_count": 11,
   "id": "d74f8bc8-ea78-4b76-ad7e-c6ed5e67fbdb",
   "metadata": {},
   "outputs": [
    {
     "name": "stdin",
     "output_type": "stream",
     "text": [
      "Enter a string:  Legend\n"
     ]
    },
    {
     "name": "stdout",
     "output_type": "stream",
     "text": [
      "The new string is: degenL\n"
     ]
    }
   ],
   "source": [
    "user_string = input(\"Enter a string: \")\n",
    "\n",
    "if len(user_string) > 1:\n",
    "    new_string = user_string[-1] + user_string[1:-1] + user_string[0]\n",
    "else:\n",
    "    new_string = user_string\n",
    "\n",
    "print(f\"The new string is: {new_string}\")\n"
   ]
  },
  {
   "cell_type": "markdown",
   "id": "715f1e53-ef92-4de3-a844-e774856ea638",
   "metadata": {},
   "source": [
    "# 4. Write a Python program that accepts a string from user. Your program should create a new string in  reverse of first string and display it. "
   ]
  },
  {
   "cell_type": "code",
   "execution_count": 14,
   "id": "92143fd2-d496-432d-bc47-27a34423c7a1",
   "metadata": {},
   "outputs": [
    {
     "name": "stdin",
     "output_type": "stream",
     "text": [
      "Enter a string:  GAME\n"
     ]
    },
    {
     "name": "stdout",
     "output_type": "stream",
     "text": [
      "The reversed string is: EMAG\n"
     ]
    }
   ],
   "source": [
    "user_string = input(\"Enter a string: \")\n",
    "\n",
    "reversed_string = user_string[::-1]\n",
    "\n",
    "print(f\"The reversed string is: {reversed_string}\")\n"
   ]
  },
  {
   "cell_type": "markdown",
   "id": "0af8f813-748e-478a-96c1-86450b45664d",
   "metadata": {},
   "source": [
    "# 5. Write a Python program that accepts a string from user. Your program should create a new string by  shifting one position to left.  \n"
   ]
  },
  {
   "cell_type": "code",
   "execution_count": 17,
   "id": "e2d3cdb8-5b63-4094-9641-880727c3b74c",
   "metadata": {},
   "outputs": [
    {
     "name": "stdin",
     "output_type": "stream",
     "text": [
      "Enter a string:  GAME\n"
     ]
    },
    {
     "name": "stdout",
     "output_type": "stream",
     "text": [
      "The shifted string is: AMEG\n"
     ]
    }
   ],
   "source": [
    "user_string = input(\"Enter a string: \")\n",
    "\n",
    "if len(user_string) > 0:\n",
    "    \n",
    "    shifted_string = user_string[1:] + user_string[0]\n",
    "else:\n",
    "    shifted_string = user_string \n",
    "\n",
    "print(f\"The shifted string is: {shifted_string}\")\n"
   ]
  }
 ],
 "metadata": {
  "kernelspec": {
   "display_name": "Python 3 (ipykernel)",
   "language": "python",
   "name": "python3"
  },
  "language_info": {
   "codemirror_mode": {
    "name": "ipython",
    "version": 3
   },
   "file_extension": ".py",
   "mimetype": "text/x-python",
   "name": "python",
   "nbconvert_exporter": "python",
   "pygments_lexer": "ipython3",
   "version": "3.12.7"
  }
 },
 "nbformat": 4,
 "nbformat_minor": 5
}
