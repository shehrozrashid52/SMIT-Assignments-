{
 "cells": [
  {
   "cell_type": "markdown",
   "id": "679981ef-ef2a-44ca-bf1f-3500c320e22c",
   "metadata": {},
   "source": [
    "### 1) Area of a Rectangle: \n",
    "### Write a Python program to calculate the area of a rectangle. Use the formula: \n",
    "### 𝐴𝒓𝒆𝒂 = 𝒍𝒆𝒏𝒈𝒕𝒉 × 𝒘𝒊𝒅𝒕𝒉\n",
    "### Take length and width as inputs from the user."
   ]
  },
  {
   "cell_type": "code",
   "execution_count": 13,
   "id": "00c66efe-4057-4e6c-bd82-172fd0cfb572",
   "metadata": {},
   "outputs": [
    {
     "name": "stdin",
     "output_type": "stream",
     "text": [
      "Enter the lenght of a rectangle:  4\n"
     ]
    }
   ],
   "source": [
    "lenght = float (input (\"Enter the lenght of a rectangle: \"))"
   ]
  },
  {
   "cell_type": "code",
   "execution_count": 7,
   "id": "9551f0f9-e854-4cb2-bffd-257553e65fab",
   "metadata": {},
   "outputs": [
    {
     "name": "stdin",
     "output_type": "stream",
     "text": [
      "Enter the width of a rectangle:  5\n"
     ]
    }
   ],
   "source": [
    "width = float (input (\"Enter the width of a rectangle: \"))"
   ]
  },
  {
   "cell_type": "code",
   "execution_count": 17,
   "id": "908ada4d-922f-453b-954d-5218555c1107",
   "metadata": {},
   "outputs": [],
   "source": [
    "area = lenght * width"
   ]
  },
  {
   "cell_type": "code",
   "execution_count": 19,
   "id": "77716c39-ce46-46fb-bdb2-9e136e1cac68",
   "metadata": {},
   "outputs": [
    {
     "name": "stdout",
     "output_type": "stream",
     "text": [
      "20.0\n"
     ]
    }
   ],
   "source": [
    "print (area)"
   ]
  },
  {
   "cell_type": "markdown",
   "id": "e54f98d1-98e2-481f-8c0c-9c383fae2759",
   "metadata": {},
   "source": [
    "### 2) Circumference of a Circle: \n",
    "### Write a Python program to calculate the circumference of a circle. Use the formula: \n",
    "### 𝑪𝒊𝒓𝒄𝒖𝒎𝒇𝒆𝒓𝒆𝒏𝒄𝒆 = 𝟐𝝅𝒓\n",
    "### Take the radius r as input from the user."
   ]
  },
  {
   "cell_type": "code",
   "execution_count": 26,
   "id": "e67043a8-c9e0-4fc4-99fe-b715dff9b4e1",
   "metadata": {},
   "outputs": [
    {
     "name": "stdin",
     "output_type": "stream",
     "text": [
      "Enter the radius of a circle:  4\n"
     ]
    }
   ],
   "source": [
    "r = float(input(\"Enter the radius of a circle: \"))"
   ]
  },
  {
   "cell_type": "code",
   "execution_count": 24,
   "id": "8f6bc554-9d6e-4fbb-84ea-f786f8766132",
   "metadata": {},
   "outputs": [],
   "source": [
    "π = 3.14"
   ]
  },
  {
   "cell_type": "code",
   "execution_count": 28,
   "id": "e9e4d265-b229-4062-b82b-43a7fbbd4ee0",
   "metadata": {},
   "outputs": [],
   "source": [
    "circumference = 2*π*r"
   ]
  },
  {
   "cell_type": "code",
   "execution_count": 31,
   "id": "683b2a65-1580-4b50-9a6f-25e2c9270514",
   "metadata": {},
   "outputs": [
    {
     "name": "stdout",
     "output_type": "stream",
     "text": [
      "25.12\n"
     ]
    }
   ],
   "source": [
    "print (circumference) "
   ]
  },
  {
   "cell_type": "markdown",
   "id": "751cc129-48b5-49e5-9d73-1ebf04cfc475",
   "metadata": {},
   "source": [
    "### 3) Simple Interest: \n",
    "### Write a Python program to calculate the simple interest. Use the formula: \n",
    "### 𝑺𝒊𝒎𝒑𝒍𝒆 𝑰𝒏𝒕𝒆𝒓𝒆𝒔𝒕 = 𝑷𝒓𝒊𝒏𝒄𝒊𝒑𝒂𝒍 × 𝑹𝒂𝒕𝒆 × 𝑻𝒊𝒎𝒆 \n",
    "### Take Principal, Rate, and Time as inputs from the user. \n"
   ]
  },
  {
   "cell_type": "code",
   "execution_count": 34,
   "id": "74a2ac18-b998-4ff2-aaf6-1edc1bd615b6",
   "metadata": {},
   "outputs": [
    {
     "name": "stdin",
     "output_type": "stream",
     "text": [
      "Enter the principal amount:  12\n"
     ]
    }
   ],
   "source": [
    "principal = float(input(\"Enter the principal amount: \"))"
   ]
  },
  {
   "cell_type": "code",
   "execution_count": 36,
   "id": "9a95eb05-c251-49f5-9ed6-b8505e4ae713",
   "metadata": {},
   "outputs": [
    {
     "name": "stdin",
     "output_type": "stream",
     "text": [
      "Enter the rate of interest 13\n"
     ]
    }
   ],
   "source": [
    "rate = float (input(\"Enter the rate of interest\"))"
   ]
  },
  {
   "cell_type": "code",
   "execution_count": 38,
   "id": "1b02609b-97ef-4a2f-95ad-c8c536424cfe",
   "metadata": {},
   "outputs": [
    {
     "name": "stdin",
     "output_type": "stream",
     "text": [
      "Enter the value of time 6\n"
     ]
    }
   ],
   "source": [
    "time = float (input(\"Enter the value of time\"))"
   ]
  },
  {
   "cell_type": "code",
   "execution_count": 40,
   "id": "500b25e1-75cf-4025-a9b7-fed1ceadea42",
   "metadata": {},
   "outputs": [],
   "source": [
    "Simple_Interest = principal*rate*time"
   ]
  },
  {
   "cell_type": "code",
   "execution_count": 42,
   "id": "58b3db2b-63ea-4f40-a743-8678c7bd7640",
   "metadata": {},
   "outputs": [
    {
     "name": "stdout",
     "output_type": "stream",
     "text": [
      "936.0\n"
     ]
    }
   ],
   "source": [
    "print(Simple_Interest)"
   ]
  },
  {
   "cell_type": "code",
   "execution_count": 44,
   "id": "7e0135bf-f868-4e0e-8638-e49ae57412e8",
   "metadata": {},
   "outputs": [
    {
     "data": {
      "text/plain": [
       "936"
      ]
     },
     "execution_count": 44,
     "metadata": {},
     "output_type": "execute_result"
    }
   ],
   "source": [
    "int(Simple_Interest)"
   ]
  },
  {
   "cell_type": "markdown",
   "id": "d6497f94-2578-46ad-9f54-8a40bba2aeda",
   "metadata": {},
   "source": [
    "### 4) Speed of an Object: \n",
    "### Write a Python program to calculate the speed of an object. Use the formula: \n",
    "### 𝑆𝒑𝒆𝒆𝒅 = 𝑫𝒊𝒔𝒕𝒂𝒏𝒄𝒆 / 𝑻𝒊𝒎𝒆\n",
    "### Take Distance and Time as inputs from the user. \n"
   ]
  },
  {
   "cell_type": "code",
   "execution_count": 47,
   "id": "fe647f7b-795d-4687-ad3b-ddd502fe9967",
   "metadata": {},
   "outputs": [
    {
     "name": "stdin",
     "output_type": "stream",
     "text": [
      "Enter the value of distance:  12\n"
     ]
    }
   ],
   "source": [
    "d = float (input(\"Enter the value of distance: \"))"
   ]
  },
  {
   "cell_type": "code",
   "execution_count": 51,
   "id": "1dc5a833-0af5-4447-810f-0e0a81647ce2",
   "metadata": {},
   "outputs": [
    {
     "name": "stdin",
     "output_type": "stream",
     "text": [
      "Enter the value of speed:  45\n"
     ]
    }
   ],
   "source": [
    "V = float (input(\"Enter the value of speed: \"))"
   ]
  },
  {
   "cell_type": "code",
   "execution_count": 53,
   "id": "8d701997-9282-4978-8a79-388d50f32109",
   "metadata": {},
   "outputs": [],
   "source": [
    "Speed = d / V"
   ]
  },
  {
   "cell_type": "code",
   "execution_count": 57,
   "id": "7ebfaf10-b563-4bf7-8a09-4307e2f2a96c",
   "metadata": {},
   "outputs": [
    {
     "name": "stdout",
     "output_type": "stream",
     "text": [
      "0.26666666666666666\n"
     ]
    }
   ],
   "source": [
    "print(Speed)"
   ]
  },
  {
   "cell_type": "markdown",
   "id": "1e826f11-09d3-454d-9f4f-77fd96223221",
   "metadata": {},
   "source": [
    "### 5) BMI Calculator: \n",
    "### Write a Python program to calculate the Body Mass Index (BMI). Use the formula: \n",
    "### BMI = ௐ௘௜௚௛௧(௄௚)\n",
    "### (ு௘௜௚௛௧).మ\n",
    "### Take Weight (in kilograms) and Height (in meters) as inputs from the user. "
   ]
  },
  {
   "cell_type": "code",
   "execution_count": 72,
   "id": "c656bb1b-93ec-43e6-baca-ebf15bd06a42",
   "metadata": {},
   "outputs": [
    {
     "name": "stdin",
     "output_type": "stream",
     "text": [
      "Enter the value of weight in kg: 80\n"
     ]
    }
   ],
   "source": [
    "weight_kg = float(input(\"Enter the value of weight in kg:\"))"
   ]
  },
  {
   "cell_type": "code",
   "execution_count": 74,
   "id": "44c0deb1-814c-4d75-a50e-0cf06820cb02",
   "metadata": {},
   "outputs": [
    {
     "name": "stdin",
     "output_type": "stream",
     "text": [
      "Enter the value of height in meter:  2\n"
     ]
    }
   ],
   "source": [
    "height_meters = float(input(\"Enter the value of height in meter: \"))"
   ]
  },
  {
   "cell_type": "code",
   "execution_count": 76,
   "id": "b177b281-0764-400d-9aa3-d65c85bbbc8e",
   "metadata": {},
   "outputs": [],
   "source": [
    "BMI = weight_kg / height_meters ** 2"
   ]
  },
  {
   "cell_type": "code",
   "execution_count": 78,
   "id": "d42ce0c2-16ef-4142-b2b5-9315e1608198",
   "metadata": {},
   "outputs": [
    {
     "name": "stdout",
     "output_type": "stream",
     "text": [
      "20.0\n"
     ]
    }
   ],
   "source": [
    "print(BMI)"
   ]
  },
  {
   "cell_type": "markdown",
   "id": "68a6b10b-e8f8-47eb-9f1a-006763d3ebd8",
   "metadata": {},
   "source": [
    "### 6) Force Using Newton's Second Law: \n",
    "### Write a Python program to calculate the force on an object. Use the formula: \n",
    "### Take m (mass in kilograms) and a (acceleration in meters/second²) as inputs from the user. "
   ]
  },
  {
   "cell_type": "code",
   "execution_count": 82,
   "id": "537a27e3-31aa-49cb-9b3f-65697b761caa",
   "metadata": {},
   "outputs": [
    {
     "name": "stdin",
     "output_type": "stream",
     "text": [
      "Enter the value of mass in kilograms 40\n"
     ]
    }
   ],
   "source": [
    "mass_kg = float(input(\"Enter the value of mass in kilograms\"))"
   ]
  },
  {
   "cell_type": "code",
   "execution_count": 84,
   "id": "70905fe7-8272-4d63-9cdc-fd8256cc425e",
   "metadata": {},
   "outputs": [
    {
     "name": "stdin",
     "output_type": "stream",
     "text": [
      "Enter the value of acceleration in meters per second square 12\n"
     ]
    }
   ],
   "source": [
    "acceleration_ms = float(input(\"Enter the value of acceleration in meters per second square\"))"
   ]
  },
  {
   "cell_type": "code",
   "execution_count": 86,
   "id": "eb7de1b7-1930-4b34-ae60-bf12a79ff40a",
   "metadata": {},
   "outputs": [],
   "source": [
    "Force = mass_kg * acceleration_ms"
   ]
  },
  {
   "cell_type": "code",
   "execution_count": 88,
   "id": "677e07ce-9987-4024-af58-479ad40b3184",
   "metadata": {},
   "outputs": [
    {
     "name": "stdout",
     "output_type": "stream",
     "text": [
      "480.0\n"
     ]
    }
   ],
   "source": [
    "print(Force)"
   ]
  },
  {
   "cell_type": "markdown",
   "id": "bead229d-e9e2-4259-a4cb-09b63f060d1f",
   "metadata": {},
   "source": [
    "### 7) Compound Interest: \n",
    "### Write a Python program to calculate compound interest. Use the formula: \n",
    "\n",
    "### Where: \n",
    "### A= total amount \n",
    "### P = principal amount \n",
    "### r = annual interest rate (decimal) \n",
    "### n = number of times interest is compounded per year \n",
    "### t = time in years \n",
    "### Take P, r, n, and t as inputs from the user. "
   ]
  },
  {
   "cell_type": "code",
   "execution_count": 92,
   "id": "b12476b8-c610-4e08-83e9-1cedcf3a8d40",
   "metadata": {},
   "outputs": [
    {
     "name": "stdin",
     "output_type": "stream",
     "text": [
      "Enter the value of principal amount:  5\n"
     ]
    }
   ],
   "source": [
    "P = float(input(\"Enter the value of principal amount: \"))"
   ]
  },
  {
   "cell_type": "code",
   "execution_count": 94,
   "id": "b9de55e1-5e36-440d-82d1-e030a2dd3a79",
   "metadata": {},
   "outputs": [
    {
     "name": "stdin",
     "output_type": "stream",
     "text": [
      "Enter the value of annual interest rate:  4\n"
     ]
    }
   ],
   "source": [
    "r = float(input(\"Enter the value of annual interest rate: \"))"
   ]
  },
  {
   "cell_type": "code",
   "execution_count": 96,
   "id": "dbcba834-91c3-4806-87f4-a6a19958a850",
   "metadata": {},
   "outputs": [
    {
     "name": "stdin",
     "output_type": "stream",
     "text": [
      "Enter the value of number of times interest is compounded per year:  5\n"
     ]
    }
   ],
   "source": [
    "n = float(input(\"Enter the value of number of times interest is compounded per year: \"))"
   ]
  },
  {
   "cell_type": "code",
   "execution_count": 98,
   "id": "bb43974a-de77-4107-9011-c04824e4f321",
   "metadata": {},
   "outputs": [
    {
     "name": "stdin",
     "output_type": "stream",
     "text": [
      "Enter the value of time in years 1\n"
     ]
    }
   ],
   "source": [
    "t = float(input(\"Enter the value of time in years\"))"
   ]
  },
  {
   "cell_type": "code",
   "execution_count": 100,
   "id": "618f79b9-2101-4f31-86b4-f555a7f89996",
   "metadata": {},
   "outputs": [],
   "source": [
    "A = P * (1 + r/n )**n-t"
   ]
  },
  {
   "cell_type": "code",
   "execution_count": 102,
   "id": "33a8adf8-a538-4f23-bec3-ec1bb569ade9",
   "metadata": {},
   "outputs": [
    {
     "name": "stdout",
     "output_type": "stream",
     "text": [
      "93.47840000000001\n"
     ]
    }
   ],
   "source": [
    "print(A)"
   ]
  },
  {
   "cell_type": "markdown",
   "id": "367bbbab-ae66-4ee2-bb9b-b6cbb8640835",
   "metadata": {},
   "source": [
    "### 8) Perimeter of a Triangle: \n",
    "###  Write a Python program to calculate the perimeter of a triangle. Use the formula: \n",
    "### 𝑷𝒆𝒓𝒊𝒎𝒆𝒕𝒆𝒓 = 𝒂 + 𝒃 + 𝒄\n",
    "### Take a, b, and c (lengths of the three sides) as inputs from the user."
   ]
  },
  {
   "cell_type": "code",
   "execution_count": 109,
   "id": "2446585c-f9f0-408c-b90e-dcf3f9dc6558",
   "metadata": {},
   "outputs": [
    {
     "name": "stdin",
     "output_type": "stream",
     "text": [
      "Enter the value of first side of triangle:  5\n"
     ]
    }
   ],
   "source": [
    "a = float(input(\"Enter the value of first side of triangle: \"))"
   ]
  },
  {
   "cell_type": "code",
   "execution_count": 107,
   "id": "7c50bf02-01c8-4f63-8f97-687b20590d8b",
   "metadata": {},
   "outputs": [
    {
     "name": "stdin",
     "output_type": "stream",
     "text": [
      "Enter the value of second side of triangle:  3\n"
     ]
    }
   ],
   "source": [
    "b = float(input(\"Enter the value of second side of triangle: \"))"
   ]
  },
  {
   "cell_type": "code",
   "execution_count": 111,
   "id": "187e9650-fd2c-47a0-ae54-c4aaa672def9",
   "metadata": {},
   "outputs": [
    {
     "name": "stdin",
     "output_type": "stream",
     "text": [
      "Enter the value of third side of triangle:  2\n"
     ]
    }
   ],
   "source": [
    "c = float(input(\"Enter the value of third side of triangle: \"))"
   ]
  },
  {
   "cell_type": "code",
   "execution_count": 113,
   "id": "26499de8-12e7-4065-80d6-0295e215d195",
   "metadata": {},
   "outputs": [],
   "source": [
    "Perimeter = a + b + c"
   ]
  },
  {
   "cell_type": "code",
   "execution_count": 115,
   "id": "037cc969-f7cd-4677-a7e0-8c16825b0ae0",
   "metadata": {},
   "outputs": [
    {
     "name": "stdout",
     "output_type": "stream",
     "text": [
      "10.0\n"
     ]
    }
   ],
   "source": [
    "print (Perimeter)"
   ]
  },
  {
   "cell_type": "markdown",
   "id": "e0ffa9ab-6c78-4349-a391-312fbcefeb29",
   "metadata": {},
   "source": [
    "### 9) Volume of a Sphere: \n",
    "### Write a Python program to calculate the volume of a sphere. Use the formula: \n",
    "### Take r (radius) as input from the user."
   ]
  },
  {
   "cell_type": "code",
   "execution_count": 136,
   "id": "a19625e4-3381-4e49-93e3-ee8590924b18",
   "metadata": {},
   "outputs": [
    {
     "name": "stdin",
     "output_type": "stream",
     "text": [
      "Enter the value of radius of sphere:  6\n"
     ]
    }
   ],
   "source": [
    "r = float(input(\"Enter the value of radius of sphere: \"))"
   ]
  },
  {
   "cell_type": "code",
   "execution_count": 132,
   "id": "4fbcdc77-84b6-4ead-a874-60564091611d",
   "metadata": {},
   "outputs": [],
   "source": [
    "math_pi = 3.142"
   ]
  },
  {
   "cell_type": "code",
   "execution_count": 146,
   "id": "f82b5497-931d-4499-8f26-c395e548a5ad",
   "metadata": {},
   "outputs": [],
   "source": [
    "volume = (4/3) * math_pi * (radius ** 3)"
   ]
  },
  {
   "cell_type": "code",
   "execution_count": 148,
   "id": "eaef05ce-4755-43d2-bbbd-bef985ce426d",
   "metadata": {},
   "outputs": [
    {
     "name": "stdout",
     "output_type": "stream",
     "text": [
      "4189.333333333333\n"
     ]
    }
   ],
   "source": [
    "print(volume)"
   ]
  },
  {
   "cell_type": "markdown",
   "id": "f048e32d-a43e-43a2-b78a-8b3ce1a220b0",
   "metadata": {},
   "source": [
    "### 10) Kinetic Energy: \n",
    "### Write a Python program to calculate the kinetic energy of an object. Use the formula: \n",
    "### Take m (mass in kilograms) and v (velocity in meters/second) as inputs from the user. "
   ]
  },
  {
   "cell_type": "code",
   "execution_count": 151,
   "id": "17aa20da-23f6-4e73-8dbc-412bfc084528",
   "metadata": {},
   "outputs": [
    {
     "name": "stdin",
     "output_type": "stream",
     "text": [
      "Enter the value of mass in kilograms:  12\n"
     ]
    }
   ],
   "source": [
    "m = float(input(\"Enter the value of mass in kilograms: \"))"
   ]
  },
  {
   "cell_type": "code",
   "execution_count": 153,
   "id": "a17f666e-87a5-4a4d-b8f0-5f1be429f503",
   "metadata": {},
   "outputs": [
    {
     "name": "stdin",
     "output_type": "stream",
     "text": [
      "Enter the value of velocity in meters/second:  14\n"
     ]
    }
   ],
   "source": [
    "V = float(input(\"Enter the value of velocity in meters/second: \"))"
   ]
  },
  {
   "cell_type": "code",
   "execution_count": 155,
   "id": "edb50152-0ec1-4315-9836-71c802dd1bf2",
   "metadata": {},
   "outputs": [],
   "source": [
    "KE = (1/2) * m * V **2"
   ]
  },
  {
   "cell_type": "code",
   "execution_count": 157,
   "id": "5a4528a2-cf73-4048-976d-934da45ad181",
   "metadata": {},
   "outputs": [
    {
     "name": "stdout",
     "output_type": "stream",
     "text": [
      "1176.0\n"
     ]
    }
   ],
   "source": [
    "print(KE)"
   ]
  },
  {
   "cell_type": "markdown",
   "id": "85801e29-16ac-49d7-8e08-b7f8c7d4dc61",
   "metadata": {},
   "source": [
    "### 11) Quadratic Equation Roots: \n",
    "### Write a Python program to find the roots of a quadratic equation. Use the formula: \n",
    "### Take a, b, and c as inputs from the user. "
   ]
  },
  {
   "cell_type": "code",
   "execution_count": 15,
   "id": "0831ea51-01ae-4271-af41-b3c2a394f8be",
   "metadata": {},
   "outputs": [],
   "source": [
    "import cmath"
   ]
  },
  {
   "cell_type": "code",
   "execution_count": 3,
   "id": "f8066dc0-261f-4ff1-a7aa-117084a6df49",
   "metadata": {},
   "outputs": [
    {
     "name": "stdin",
     "output_type": "stream",
     "text": [
      "Eneter the value of a: 3\n"
     ]
    }
   ],
   "source": [
    "a = float(input(\"Eneter the value of a:\"))"
   ]
  },
  {
   "cell_type": "code",
   "execution_count": 5,
   "id": "6681541d-d8ec-4deb-a1e0-2a1e1d729cba",
   "metadata": {},
   "outputs": [
    {
     "name": "stdin",
     "output_type": "stream",
     "text": [
      "Enter the value of b:  4\n"
     ]
    }
   ],
   "source": [
    "b = float(input(\"Enter the value of b: \"))"
   ]
  },
  {
   "cell_type": "code",
   "execution_count": 7,
   "id": "862f98f7-f13c-458a-9703-c8ddd6fda4c9",
   "metadata": {},
   "outputs": [
    {
     "name": "stdin",
     "output_type": "stream",
     "text": [
      "Enter the value of c:  5\n"
     ]
    }
   ],
   "source": [
    "c = float(input(\"Enter the value of c: \"))"
   ]
  },
  {
   "cell_type": "code",
   "execution_count": 11,
   "id": "8f85472a-4712-4b9f-9ede-2daf33129671",
   "metadata": {},
   "outputs": [],
   "source": [
    "X = discriminant = b**2 - 4*a*c"
   ]
  },
  {
   "cell_type": "code",
   "execution_count": 19,
   "id": "f809b2ea-9b73-4301-bcb3-cc68bf45237a",
   "metadata": {},
   "outputs": [],
   "source": [
    "    root1 = (-b + cmath.sqrt(discriminant)) / (2*a)\n",
    "    root2 = (-b - cmath.sqrt(discriminant)) / (2*a)"
   ]
  },
  {
   "cell_type": "code",
   "execution_count": 21,
   "id": "b829dccf-d207-45b2-8aa2-6325472894ae",
   "metadata": {},
   "outputs": [
    {
     "name": "stdout",
     "output_type": "stream",
     "text": [
      "(-0.6666666666666666+1.1055415967851332j)\n"
     ]
    }
   ],
   "source": [
    "print (root1)"
   ]
  },
  {
   "cell_type": "code",
   "execution_count": 23,
   "id": "d1919fc0-e914-454c-a32a-a613e8d09c60",
   "metadata": {},
   "outputs": [
    {
     "name": "stdout",
     "output_type": "stream",
     "text": [
      "(-0.6666666666666666-1.1055415967851332j)\n"
     ]
    }
   ],
   "source": [
    "print(root2)"
   ]
  },
  {
   "cell_type": "markdown",
   "id": "edf0f9df-6602-420a-ba06-950e6b7dbc44",
   "metadata": {},
   "source": [
    "### 12) Temperature Conversion: \n",
    "### Write a Python program to convert a temperature from Celsius to Fahrenheit. Use the \n",
    "### formula: \n",
    "### Take C (temperature in Celsius) as input from the user."
   ]
  },
  {
   "cell_type": "code",
   "execution_count": 26,
   "id": "c340e5c5-1873-41ea-9183-2ab622b59820",
   "metadata": {},
   "outputs": [
    {
     "name": "stdin",
     "output_type": "stream",
     "text": [
      "Enter the value of Temprature in Celsius:  45\n"
     ]
    }
   ],
   "source": [
    "c = float(input(\"Enter the value of Temprature in Celsius: \"))"
   ]
  },
  {
   "cell_type": "code",
   "execution_count": 30,
   "id": "8a9fa4bb-449b-4d7f-bce5-6e1ba6d842ef",
   "metadata": {},
   "outputs": [],
   "source": [
    "F = 9/5 * c + 32"
   ]
  },
  {
   "cell_type": "code",
   "execution_count": 32,
   "id": "cf88f1ab-7854-4cbd-8166-5284fc629c94",
   "metadata": {},
   "outputs": [
    {
     "name": "stdout",
     "output_type": "stream",
     "text": [
      "113.0\n"
     ]
    }
   ],
   "source": [
    "print(F)"
   ]
  },
  {
   "cell_type": "markdown",
   "id": "df8097cb-3612-4f66-a83f-e296bbbef6b2",
   "metadata": {},
   "source": [
    "### 13) Gravitational Force: \n",
    "### Write a Python program to calculate the gravitational force between two objects. Use the formula \n",
    "### r = distance between the centers of the objects \n",
    "### Take m1, m2 and r as inputs from the user."
   ]
  },
  {
   "cell_type": "code",
   "execution_count": 45,
   "id": "3fdbb388-502c-4954-ac91-c29708316de6",
   "metadata": {},
   "outputs": [
    {
     "name": "stdin",
     "output_type": "stream",
     "text": [
      "Enter the value of mass 1:  6\n"
     ]
    }
   ],
   "source": [
    "m1 = float(input(\"Enter the value of mass 1: \"))"
   ]
  },
  {
   "cell_type": "code",
   "execution_count": 43,
   "id": "6f4dc484-3074-40f1-b92e-f5bd2956aaab",
   "metadata": {},
   "outputs": [
    {
     "name": "stdin",
     "output_type": "stream",
     "text": [
      "Enter the value of mass 2:  5\n"
     ]
    }
   ],
   "source": [
    "m2 = float (input(\"Enter the value of mass 2: \")) "
   ]
  },
  {
   "cell_type": "code",
   "execution_count": 41,
   "id": "0e5389c3-fba9-44f9-a507-bff7860a32cb",
   "metadata": {},
   "outputs": [
    {
     "name": "stdin",
     "output_type": "stream",
     "text": [
      "Enetr ther vlaue of the radius in meters:  4\n"
     ]
    }
   ],
   "source": [
    "r = float (input(\"Enetr ther vlaue of the radius in meters: \"))"
   ]
  },
  {
   "cell_type": "code",
   "execution_count": 49,
   "id": "eb73b8cf-b5f8-424b-81ec-eeb532097c31",
   "metadata": {},
   "outputs": [],
   "source": [
    "G = 6.67 *(10** -11)"
   ]
  },
  {
   "cell_type": "code",
   "execution_count": 53,
   "id": "bda9b011-f1d9-4073-9c46-e4794251b9cc",
   "metadata": {},
   "outputs": [],
   "source": [
    "F = G * (m1 * m2) /(r**2)"
   ]
  },
  {
   "cell_type": "code",
   "execution_count": 55,
   "id": "551f2a4a-47b2-418b-ace2-6e35e0bffd1f",
   "metadata": {},
   "outputs": [
    {
     "name": "stdout",
     "output_type": "stream",
     "text": [
      "1.250625e-10\n"
     ]
    }
   ],
   "source": [
    "print(F)"
   ]
  },
  {
   "cell_type": "markdown",
   "id": "79b6660a-e055-41b6-99eb-33ee149937db",
   "metadata": {},
   "source": [
    "### 14) Volume of a Cylinder:\n",
    "## Write a Python program to calculate the volume of a cylinder. Use the formula: \n",
    "### 𝑽𝒐𝒍𝒖𝒎𝒆 = 𝝅𝒓𝟐𝒉\n",
    "### Take radius(r) and height(h) as inputs from the user\n"
   ]
  },
  {
   "cell_type": "code",
   "execution_count": 64,
   "id": "fb986f78-2649-43bc-a862-c5bbe4300438",
   "metadata": {},
   "outputs": [],
   "source": [
    "import math"
   ]
  },
  {
   "cell_type": "code",
   "execution_count": 60,
   "id": "81993bce-abc0-468b-a8c5-f288a21315c7",
   "metadata": {},
   "outputs": [
    {
     "name": "stdin",
     "output_type": "stream",
     "text": [
      "Enter the value of of the radius:  4\n"
     ]
    }
   ],
   "source": [
    "radius = float(input(\"Enter the value of of the radius: \"))"
   ]
  },
  {
   "cell_type": "code",
   "execution_count": 62,
   "id": "a04d4667-a0bb-4c49-8134-4b07e175a801",
   "metadata": {},
   "outputs": [
    {
     "name": "stdin",
     "output_type": "stream",
     "text": [
      "Enter the value of the height:  5\n"
     ]
    }
   ],
   "source": [
    "height = float (input(\"Enter the value of the height: \"))"
   ]
  },
  {
   "cell_type": "code",
   "execution_count": 66,
   "id": "2f2fd9d4-a5a1-4874-a318-95ad140936e7",
   "metadata": {},
   "outputs": [],
   "source": [
    "Volume = math.pi * radius * 2 * height"
   ]
  },
  {
   "cell_type": "code",
   "execution_count": 68,
   "id": "8a5bd537-ec1b-4b0d-9551-5f19784bd8e0",
   "metadata": {},
   "outputs": [
    {
     "name": "stdout",
     "output_type": "stream",
     "text": [
      "125.66370614359172\n"
     ]
    }
   ],
   "source": [
    "print(Volume)"
   ]
  },
  {
   "cell_type": "markdown",
   "id": "dcc3e80d-87d7-4ebe-9ff3-48dfd38cbf2c",
   "metadata": {},
   "source": [
    "### 15) Pressure:\n",
    "### Write a Python program to calculate the pressure exerted by a force on a surface. Use \n",
    "### the formula: \n",
    "### P = pressure \n",
    "### F = force \n",
    "### A = area \n",
    "### Take F(force) and A(area) as inputs from the user. "
   ]
  },
  {
   "cell_type": "code",
   "execution_count": 73,
   "id": "b7f24b19-4ba9-4162-a7a1-a7d65846e2fb",
   "metadata": {},
   "outputs": [
    {
     "name": "stdin",
     "output_type": "stream",
     "text": [
      "Enter the value of of the force:  6\n"
     ]
    }
   ],
   "source": [
    "F = float(input(\"Enter the value of of the force: \"))"
   ]
  },
  {
   "cell_type": "code",
   "execution_count": 75,
   "id": "8a526e5b-3845-4d08-a18a-34d969aa95eb",
   "metadata": {},
   "outputs": [
    {
     "name": "stdin",
     "output_type": "stream",
     "text": [
      "Enter the value of of the area:  6\n"
     ]
    }
   ],
   "source": [
    "A = float(input(\"Enter the value of of the area: \"))"
   ]
  },
  {
   "cell_type": "code",
   "execution_count": 79,
   "id": "63ef9114-61ef-4618-851d-0384835bbd36",
   "metadata": {},
   "outputs": [],
   "source": [
    "P = F / A"
   ]
  },
  {
   "cell_type": "code",
   "execution_count": 81,
   "id": "43cd650a-f0d6-4709-a224-b63684b90a7b",
   "metadata": {},
   "outputs": [
    {
     "name": "stdout",
     "output_type": "stream",
     "text": [
      "1.0\n"
     ]
    }
   ],
   "source": [
    "print(P)"
   ]
  },
  {
   "cell_type": "markdown",
   "id": "f966105f-fb52-43b3-841a-99c395b3a4b8",
   "metadata": {},
   "source": [
    "### 16) Electric Power:\n",
    "### Write a Python program to calculate the electric power consumed. Use the formula: \n",
    "### where: \n",
    "### P = power \n",
    "### V = voltage \n",
    "### I = current \n",
    "### Take V(voltage) and I(current) as inputs from the user."
   ]
  },
  {
   "cell_type": "code",
   "execution_count": 84,
   "id": "f30c4386-8920-4b05-9899-589c06ee6d93",
   "metadata": {},
   "outputs": [
    {
     "name": "stdin",
     "output_type": "stream",
     "text": [
      "Enter the value of of the Voltage:  12\n"
     ]
    }
   ],
   "source": [
    "V = float(input(\"Enter the value of of the Voltage: \"))"
   ]
  },
  {
   "cell_type": "code",
   "execution_count": 86,
   "id": "45115c0c-faf5-4046-a03b-6db46eeac0b4",
   "metadata": {},
   "outputs": [
    {
     "name": "stdin",
     "output_type": "stream",
     "text": [
      "Enter the value of of the Current:  14\n"
     ]
    }
   ],
   "source": [
    "I = float(input(\"Enter the value of of the Current: \"))"
   ]
  },
  {
   "cell_type": "code",
   "execution_count": 88,
   "id": "7aa6aba6-9867-471d-a847-635044e416d6",
   "metadata": {},
   "outputs": [],
   "source": [
    "P = V / I"
   ]
  },
  {
   "cell_type": "code",
   "execution_count": 90,
   "id": "1c026625-a4e5-4498-93a8-1e9ddf6c44fd",
   "metadata": {},
   "outputs": [
    {
     "name": "stdout",
     "output_type": "stream",
     "text": [
      "0.8571428571428571\n"
     ]
    }
   ],
   "source": [
    "print(P)"
   ]
  },
  {
   "cell_type": "markdown",
   "id": "c92e32ba-b081-40f6-b80a-0bb77505e993",
   "metadata": {},
   "source": [
    "### 17) Perimeter of a Circle (Circumference): \n",
    "### Write a Python program to calculate the perimeter (circumference) of a circle. Use the \n",
    "### formula: \n",
    "### Take r (radius) as input from the user."
   ]
  },
  {
   "cell_type": "code",
   "execution_count": 95,
   "id": "f1eae205-2226-47db-a079-7229b2d8a5de",
   "metadata": {},
   "outputs": [],
   "source": [
    "import math"
   ]
  },
  {
   "cell_type": "code",
   "execution_count": 93,
   "id": "742ee781-ca61-417f-ac87-40aa3c72a1fb",
   "metadata": {},
   "outputs": [
    {
     "name": "stdin",
     "output_type": "stream",
     "text": [
      "Enter the value of of the Radius:  4\n"
     ]
    }
   ],
   "source": [
    "r = float(input(\"Enter the value of of the Radius: \"))"
   ]
  },
  {
   "cell_type": "code",
   "execution_count": 97,
   "id": "c1b93a94-1508-4ecf-b378-5e43b0e226d1",
   "metadata": {},
   "outputs": [],
   "source": [
    "P = 2 * math.pi * r"
   ]
  },
  {
   "cell_type": "code",
   "execution_count": 99,
   "id": "5cd97d0c-3c1c-42f6-ab55-820824e27d3d",
   "metadata": {},
   "outputs": [
    {
     "name": "stdout",
     "output_type": "stream",
     "text": [
      "25.132741228718345\n"
     ]
    }
   ],
   "source": [
    "print (P)"
   ]
  },
  {
   "cell_type": "markdown",
   "id": "0eb645af-f313-456c-a00b-ae2061133df7",
   "metadata": {},
   "source": [
    "### 18) Future Value in Savings:\n",
    "### Write a Python program to calculate the future value of an investment. Use the formula: \n",
    "### where: \n",
    "### o FV= future value \n",
    "### o PV= present value \n",
    "### o r= annual interest rate (as a decimal) \n",
    "### o t= time in years \n",
    "### Take PV, r, and t as inputs from the user. \n"
   ]
  },
  {
   "cell_type": "code",
   "execution_count": 108,
   "id": "88b2b8e1-0b46-4e21-92a2-68cb7a821fe0",
   "metadata": {},
   "outputs": [
    {
     "name": "stdin",
     "output_type": "stream",
     "text": [
      "Enter the value of of the annual interest rate:  45\n"
     ]
    }
   ],
   "source": [
    "r = float(input(\"Enter the value of of the annual interest rate: \"))"
   ]
  },
  {
   "cell_type": "code",
   "execution_count": 104,
   "id": "e173806f-87e5-456e-8137-07b0a1316260",
   "metadata": {},
   "outputs": [
    {
     "name": "stdin",
     "output_type": "stream",
     "text": [
      "Enter the value of of the present value:  14\n"
     ]
    }
   ],
   "source": [
    "PV = float(input(\"Enter the value of of the present value: \"))"
   ]
  },
  {
   "cell_type": "code",
   "execution_count": 106,
   "id": "1d95af7d-f233-4c0e-be09-58cdc05355fa",
   "metadata": {},
   "outputs": [
    {
     "name": "stdin",
     "output_type": "stream",
     "text": [
      "Enter the value of of the time in years:  4\n"
     ]
    }
   ],
   "source": [
    "t = float(input(\"Enter the value of of the time in years: \"))"
   ]
  },
  {
   "cell_type": "code",
   "execution_count": 114,
   "id": "0e9f7a13-543d-4d68-a8e4-5f128d1dd83a",
   "metadata": {},
   "outputs": [],
   "source": [
    "FV = PV * ( (1 + r) ** t)"
   ]
  },
  {
   "cell_type": "code",
   "execution_count": 116,
   "id": "fbae7d1a-598b-4bf1-bbca-05328655d852",
   "metadata": {},
   "outputs": [
    {
     "name": "stdout",
     "output_type": "stream",
     "text": [
      "25.132741228718345\n"
     ]
    }
   ],
   "source": [
    "print(P)"
   ]
  },
  {
   "cell_type": "markdown",
   "id": "a38f5e27-c3f3-4e75-8415-d207b47b8982",
   "metadata": {},
   "source": [
    "### 19) Work Done by a Force:\n",
    "### Write a Python program to calculate the work done by a force. Use the formula: \n",
    "### where: \n",
    "### W = work done \n",
    "### f= force \n",
    "### d = distance \n",
    "### theta = angle between force and direction of movement (in degrees) \n",
    "### Take f, d, and θ as inputs from the user."
   ]
  },
  {
   "cell_type": "code",
   "execution_count": 131,
   "id": "d6e905de-c5b9-4b5f-9243-5d6a2e9c6946",
   "metadata": {},
   "outputs": [],
   "source": [
    "import math"
   ]
  },
  {
   "cell_type": "code",
   "execution_count": 119,
   "id": "83aa36cb-6131-4b59-9027-113a5935167e",
   "metadata": {},
   "outputs": [
    {
     "name": "stdin",
     "output_type": "stream",
     "text": [
      "Enter the value of of the force:  14\n"
     ]
    }
   ],
   "source": [
    "f = float(input(\"Enter the value of of the force: \"))"
   ]
  },
  {
   "cell_type": "code",
   "execution_count": 129,
   "id": "7ab864cb-1936-46ea-826d-94486917ea2a",
   "metadata": {},
   "outputs": [
    {
     "name": "stdin",
     "output_type": "stream",
     "text": [
      "Enter the value of the distance:  8\n"
     ]
    }
   ],
   "source": [
    "d = float(input(\"Enter the value of t6he distance: \"))"
   ]
  },
  {
   "cell_type": "code",
   "execution_count": 127,
   "id": "18d6d2b0-6085-442b-8d66-0b242a0687f7",
   "metadata": {},
   "outputs": [
    {
     "name": "stdin",
     "output_type": "stream",
     "text": [
      "Enter the value of θ: 45\n"
     ]
    }
   ],
   "source": [
    "θ = float(input(\"Enter the value of θ:\"))"
   ]
  },
  {
   "cell_type": "code",
   "execution_count": 133,
   "id": "5b71d08b-081e-447e-a06e-44780e0cb5d1",
   "metadata": {},
   "outputs": [],
   "source": [
    "theta_radians = math.radians(θ)"
   ]
  },
  {
   "cell_type": "code",
   "execution_count": 135,
   "id": "25eb7e08-fdff-47ee-878b-e59e029fde47",
   "metadata": {},
   "outputs": [],
   "source": [
    "W = f * d * math.cos(theta_radians)"
   ]
  },
  {
   "cell_type": "code",
   "execution_count": 137,
   "id": "fe1b716c-c258-45b5-8d01-fe589786d094",
   "metadata": {},
   "outputs": [
    {
     "name": "stdout",
     "output_type": "stream",
     "text": [
      "79.19595949289332\n"
     ]
    }
   ],
   "source": [
    "print(W)"
   ]
  },
  {
   "cell_type": "markdown",
   "id": "d859c317-6c51-47dc-b743-3ab48daa74bd",
   "metadata": {},
   "source": [
    "### 20) Heat Transfer:\n",
    "### Write a Python program to calculate the amount of heat transferred. Use the formula: \n",
    "### 𝑄 = 𝑚𝑐 (∆T)\n",
    "### where: \n",
    "### m = mass \n",
    "### c = specific heat capacity \n",
    "### ΔT \n",
    "### Take m, c, T as inputs from the user"
   ]
  },
  {
   "cell_type": "code",
   "execution_count": 140,
   "id": "81ff27e5-c039-4444-a9da-eb8dd8c699b6",
   "metadata": {},
   "outputs": [
    {
     "name": "stdin",
     "output_type": "stream",
     "text": [
      "Enter the value of of the mass:  20\n"
     ]
    }
   ],
   "source": [
    "m = float(input(\"Enter the value of of the mass: \"))"
   ]
  },
  {
   "cell_type": "code",
   "execution_count": 142,
   "id": "c4667121-8620-4bf9-8823-bfc053bae8fe",
   "metadata": {},
   "outputs": [
    {
     "name": "stdin",
     "output_type": "stream",
     "text": [
      "Enter the value of the specific heat capacity:  15\n"
     ]
    }
   ],
   "source": [
    "c = float(input(\"Enter the value of the specific heat capacity: \"))"
   ]
  },
  {
   "cell_type": "code",
   "execution_count": 146,
   "id": "bf88ff39-135f-42e7-a89a-c2cb5d1879ac",
   "metadata": {},
   "outputs": [
    {
     "name": "stdin",
     "output_type": "stream",
     "text": [
      "Enter the value of of the initial temprature:  12\n"
     ]
    }
   ],
   "source": [
    "T_initial = float(input(\"Enter the value of of the initial temprature: \"))"
   ]
  },
  {
   "cell_type": "code",
   "execution_count": 148,
   "id": "da49bd22-bbcd-4f54-80eb-97accfc82ed4",
   "metadata": {},
   "outputs": [
    {
     "name": "stdin",
     "output_type": "stream",
     "text": [
      "Enter the value of of the final temprature:  30\n"
     ]
    }
   ],
   "source": [
    "T_final = float(input(\"Enter the value of of the final temprature: \"))"
   ]
  },
  {
   "cell_type": "code",
   "execution_count": 152,
   "id": "460e6b18-a3a3-4894-8b25-ae2bf083affd",
   "metadata": {},
   "outputs": [],
   "source": [
    "delta_T =T_final - T_initial"
   ]
  },
  {
   "cell_type": "code",
   "execution_count": 154,
   "id": "dab71d0f-78a2-4cb3-8619-fe900606399a",
   "metadata": {},
   "outputs": [],
   "source": [
    "Q = m * c * (delta_T)"
   ]
  },
  {
   "cell_type": "code",
   "execution_count": 156,
   "id": "21107063-77d4-472b-96b0-d71ac7efdb21",
   "metadata": {},
   "outputs": [
    {
     "name": "stdout",
     "output_type": "stream",
     "text": [
      "5400.0\n"
     ]
    }
   ],
   "source": [
    "print(Q)"
   ]
  }
 ],
 "metadata": {
  "kernelspec": {
   "display_name": "Python 3 (ipykernel)",
   "language": "python",
   "name": "python3"
  },
  "language_info": {
   "codemirror_mode": {
    "name": "ipython",
    "version": 3
   },
   "file_extension": ".py",
   "mimetype": "text/x-python",
   "name": "python",
   "nbconvert_exporter": "python",
   "pygments_lexer": "ipython3",
   "version": "3.12.7"
  }
 },
 "nbformat": 4,
 "nbformat_minor": 5
}
