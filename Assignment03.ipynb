{
 "cells": [
  {
   "cell_type": "markdown",
   "id": "bf217e08-352f-4d72-ae9d-5aed1b713f7b",
   "metadata": {},
   "source": [
    "# List Assignment "
   ]
  },
  {
   "cell_type": "markdown",
   "id": "cdd2c093-de47-4ce6-b0d0-3c7dd4f56e82",
   "metadata": {},
   "source": [
    "## 1. Write a program that accepts a list from user and print the alternate element of list."
   ]
  },
  {
   "cell_type": "code",
   "execution_count": 9,
   "id": "afc1c4a9-a49e-4afa-ace1-1b6198273d14",
   "metadata": {},
   "outputs": [
    {
     "name": "stdin",
     "output_type": "stream",
     "text": [
      "Enter a list of elements seprated by spaces:  5 6 8 9 0 6\n"
     ]
    }
   ],
   "source": [
    "user_input = input(\"Enter a list of elements seprated by spaces: \")"
   ]
  },
  {
   "cell_type": "code",
   "execution_count": 11,
   "id": "5f1bf71a-c778-45f0-a09d-d10cf06a7012",
   "metadata": {},
   "outputs": [],
   "source": [
    "user_list = user_input.split () "
   ]
  },
  {
   "cell_type": "code",
   "execution_count": 13,
   "id": "aacb64f1-a2dd-49c8-b986-62ef819713bd",
   "metadata": {},
   "outputs": [
    {
     "name": "stdout",
     "output_type": "stream",
     "text": [
      "['5', '6', '8', '9', '0', '6']\n"
     ]
    }
   ],
   "source": [
    "print(user_list)"
   ]
  },
  {
   "cell_type": "code",
   "execution_count": 17,
   "id": "977b6cc0-be6e-4a03-a61c-bbe6f2dbeacd",
   "metadata": {},
   "outputs": [],
   "source": [
    "alternate_elements = user_list [::2]"
   ]
  },
  {
   "cell_type": "code",
   "execution_count": 19,
   "id": "b458a891-aef7-4dba-a538-0263546bddfa",
   "metadata": {},
   "outputs": [
    {
     "name": "stdout",
     "output_type": "stream",
     "text": [
      "['5', '8', '0']\n"
     ]
    }
   ],
   "source": [
    "print (alternate_elements)"
   ]
  },
  {
   "cell_type": "markdown",
   "id": "87338441-4dc9-4c65-9c84-37c3713e8a35",
   "metadata": {},
   "source": [
    "## 2. Write a program that accepts a list from user. Your program should reverse the content of list and display it. Do not use reverse() method. \n"
   ]
  },
  {
   "cell_type": "code",
   "execution_count": 22,
   "id": "7cc53a19-27e4-4458-8303-d8221b51ea5f",
   "metadata": {},
   "outputs": [
    {
     "name": "stdin",
     "output_type": "stream",
     "text": [
      "Enter a list of elements seprated by spaces:  2 4 5 6 7 7 8 8\n"
     ]
    }
   ],
   "source": [
    "user_input = input(\"Enter a list of elements seprated by spaces: \")"
   ]
  },
  {
   "cell_type": "code",
   "execution_count": 24,
   "id": "33186052-6b43-497e-a7e0-57830fc7b37f",
   "metadata": {},
   "outputs": [],
   "source": [
    "user_list = user_input.split () "
   ]
  },
  {
   "cell_type": "code",
   "execution_count": 31,
   "id": "78606e8c-545d-4eeb-a598-1fc2176570e1",
   "metadata": {},
   "outputs": [],
   "source": [
    "reversed_list = user_list [::-1]"
   ]
  },
  {
   "cell_type": "code",
   "execution_count": 33,
   "id": "661e78a9-be78-4657-8d8c-f8514d310056",
   "metadata": {},
   "outputs": [
    {
     "name": "stdout",
     "output_type": "stream",
     "text": [
      "['8', '8', '7', '7', '6', '5', '4', '2']\n"
     ]
    }
   ],
   "source": [
    "print(reversed_list)"
   ]
  },
  {
   "cell_type": "markdown",
   "id": "ad87f0cd-5d0e-414c-9ee7-dbadf624d091",
   "metadata": {},
   "source": [
    "## 3. Find and display the largest number of a list without using built-in function max(). Your program should ask the user to input values in list from keyboard. "
   ]
  },
  {
   "cell_type": "code",
   "execution_count": 54,
   "id": "b76bbb4f-5836-45b1-8363-0e7f84647062",
   "metadata": {},
   "outputs": [
    {
     "name": "stdin",
     "output_type": "stream",
     "text": [
      "Enter a list of elements seprated by spaces 6 7 8 9 1 10 5 \n"
     ]
    }
   ],
   "source": [
    "user_input = input(\"Enter a list of elements seprated by spaces\")"
   ]
  },
  {
   "cell_type": "code",
   "execution_count": 56,
   "id": "bd1c1b8e-f3bc-4f91-803a-8bf531bc35fd",
   "metadata": {},
   "outputs": [],
   "source": [
    "user_list  = [float (num) for num in user_input.split ()]"
   ]
  },
  {
   "cell_type": "code",
   "execution_count": 64,
   "id": "ee3991f7-ae86-4d69-a7a3-99f2a86c9498",
   "metadata": {},
   "outputs": [],
   "source": [
    "largest = user_list[0]\n",
    "for num in user_list:\n",
    "    if num > largest:\n",
    "        largest = num"
   ]
  },
  {
   "cell_type": "code",
   "execution_count": 66,
   "id": "8bdca7cf-fb37-4fd9-b2e3-831f275a3da0",
   "metadata": {},
   "outputs": [
    {
     "name": "stdout",
     "output_type": "stream",
     "text": [
      "10.0\n"
     ]
    }
   ],
   "source": [
    "print(largest)"
   ]
  },
  {
   "cell_type": "markdown",
   "id": "1ca3228f-5dbd-46c0-8e89-d08151359809",
   "metadata": {},
   "source": [
    "## 4. Write a program that rotates the element of a list so that the element at the first index moves to the second index, the element in the second index moves to the third index, etc., and the element in the last index moves to the first index. "
   ]
  },
  {
   "cell_type": "code",
   "execution_count": 73,
   "id": "202632f9-5a66-4dda-8773-c242540da110",
   "metadata": {},
   "outputs": [
    {
     "name": "stdin",
     "output_type": "stream",
     "text": [
      "Enter a list of elements seprated by spaces 2 3 4 6 7 8 5 \n"
     ]
    }
   ],
   "source": [
    "user_input = input(\"Enter a list of elements seprated by spaces\")"
   ]
  },
  {
   "cell_type": "code",
   "execution_count": 75,
   "id": "951d8c79-bd2a-4961-b381-9b65498fc457",
   "metadata": {},
   "outputs": [],
   "source": [
    "user_list = user_input.split()"
   ]
  },
  {
   "cell_type": "code",
   "execution_count": 81,
   "id": "1713a03a-0726-4cec-939e-ca968be96ca5",
   "metadata": {},
   "outputs": [],
   "source": [
    "rotated_list = user_list[-1:] + user_list[:-1]"
   ]
  },
  {
   "cell_type": "code",
   "execution_count": 83,
   "id": "3f16ec63-fbfb-421c-8551-ca8c1d6ddfe2",
   "metadata": {},
   "outputs": [
    {
     "data": {
      "text/plain": [
       "['5', '2', '3', '4', '6', '7', '8']"
      ]
     },
     "execution_count": 83,
     "metadata": {},
     "output_type": "execute_result"
    }
   ],
   "source": [
    "rotated_list"
   ]
  },
  {
   "cell_type": "markdown",
   "id": "0f065fb2-dd63-4b70-b56d-1faf91611a83",
   "metadata": {},
   "source": [
    "## 5. Write a program that input a string and ask user to delete a given word from a string. \n"
   ]
  },
  {
   "cell_type": "code",
   "execution_count": 121,
   "id": "412a4f1d-4fd9-488b-b3c1-8c645b7437af",
   "metadata": {},
   "outputs": [
    {
     "name": "stdin",
     "output_type": "stream",
     "text": [
      "Enter a string: he works very hard\n"
     ]
    }
   ],
   "source": [
    "orignal_string = input(\"Enter a string:\")"
   ]
  },
  {
   "cell_type": "code",
   "execution_count": 123,
   "id": "a9674b6a-d1bd-4c23-875f-afb0cd23afd9",
   "metadata": {},
   "outputs": [
    {
     "name": "stdin",
     "output_type": "stream",
     "text": [
      "Enter the word you want to delete: very\n"
     ]
    }
   ],
   "source": [
    "word_to_delete = input(\"Enter the word you want to delete:\")"
   ]
  },
  {
   "cell_type": "code",
   "execution_count": 125,
   "id": "9194fc24-a76b-4908-a390-742f4c3b0102",
   "metadata": {},
   "outputs": [],
   "source": [
    "result_string = orignal_string.replace(word_to_delete, \"\").strip()"
   ]
  },
  {
   "cell_type": "code",
   "execution_count": 127,
   "id": "5c856e66-56af-435c-bf57-85c99cfb4563",
   "metadata": {},
   "outputs": [
    {
     "name": "stdout",
     "output_type": "stream",
     "text": [
      "he works  hard\n"
     ]
    }
   ],
   "source": [
    "print (result_string)"
   ]
  },
  {
   "cell_type": "markdown",
   "id": "ed7ecdb3-7800-4986-a6db-03d9ba04813d",
   "metadata": {},
   "source": [
    "## 6. Write a program that reads a string from the user containing a date in the form mm/dd/yyyy. It should print the date in the form March 12, 2021. "
   ]
  },
  {
   "cell_type": "code",
   "execution_count": 152,
   "id": "43a924be-6174-415e-81af-cff74df40d16",
   "metadata": {},
   "outputs": [
    {
     "name": "stdin",
     "output_type": "stream",
     "text": [
      "Enter a date in the form mm/dd/yyyy:  09/12/2004\n"
     ]
    },
    {
     "name": "stdout",
     "output_type": "stream",
     "text": [
      "The date is: September 12, 2004\n"
     ]
    }
   ],
   "source": [
    "months = {\n",
    "     \"01\": \"January\", \"02\": \"February\", \"03\": \"March\", \"04\": \"April\",\n",
    "    \"05\": \"May\", \"06\": \"June\", \"07\": \"July\", \"08\": \"August\",\n",
    "    \"09\": \"September\", \"10\": \"October\", \"11\": \"November\", \"12\": \"December\"\n",
    "}\n",
    "date_input = input (\"Enter a date in the form mm/dd/yyyy: \")\n",
    "month, day, year = date_input.split(\"/\")\n",
    "month_name = months[month]\n",
    "print (f\"The date is: {month_name} {int(day)}, {year}\")"
   ]
  },
  {
   "cell_type": "markdown",
   "id": "c6b4596a-c393-4458-9597-a613070fc4f7",
   "metadata": {},
   "source": [
    "##  7. Write a program with a function that accepts a string from keyboard and create a new string after converting character of each word capitalized. For instance, if the sentence is \"stop and smell the roses.\" the output should be \"Stop And Smell The Roses\" "
   ]
  },
  {
   "cell_type": "code",
   "execution_count": 155,
   "id": "e478d69a-db8d-4729-a889-131d3c887657",
   "metadata": {},
   "outputs": [
    {
     "name": "stdin",
     "output_type": "stream",
     "text": [
      "Enter a sentence:  you are insane\n"
     ]
    },
    {
     "name": "stdout",
     "output_type": "stream",
     "text": [
      "Capitalized sentence: You Are Insane\n"
     ]
    }
   ],
   "source": [
    "def capitalize_words(input_string):\n",
    "    return input_string.title()\n",
    "user_input = input(\"Enter a sentence: \")\n",
    "result = capitalize_words(user_input)\n",
    "print(\"Capitalized sentence:\", result)\n"
   ]
  },
  {
   "cell_type": "markdown",
   "id": "d30877ac-4f1c-4153-aec8-43717b644a1b",
   "metadata": {},
   "source": [
    "## 8. Find the sum of each row of matrix of size m x n. For example for the following matrix output will be \n",
    "### like this : \n",
    "### Sum of row 1 = 32 \n",
    "### Sum of row 2 = 31 \n",
    "### Sum of row 3 = 63 "
   ]
  },
  {
   "cell_type": "code",
   "execution_count": 7,
   "id": "9bd540c0-6d4c-40b6-baa3-70450bd143d1",
   "metadata": {},
   "outputs": [
    {
     "name": "stdin",
     "output_type": "stream",
     "text": [
      "Enter the number of rows (m):  3\n",
      "Enter the number of columns (n):  5\n"
     ]
    },
    {
     "name": "stdout",
     "output_type": "stream",
     "text": [
      "Enter the elements row by row:\n"
     ]
    },
    {
     "name": "stdin",
     "output_type": "stream",
     "text": [
      "Enter row 1 elements:  1 4 5 6 8\n",
      "Enter row 2 elements:  1 2 4 5 \n",
      "Enter row 3 elements:  1 7 8 0 5 3 \n"
     ]
    },
    {
     "name": "stdout",
     "output_type": "stream",
     "text": [
      "Sum of row 1 = 24\n",
      "Sum of row 2 = 12\n",
      "Sum of row 3 = 24\n"
     ]
    }
   ],
   "source": [
    "def sum_of_rows(matrix):\n",
    "    for i in range(len(matrix)):\n",
    "        row_sum = sum(matrix[i]) \n",
    "        print(f\"Sum of row {i+1} = {row_sum}\")\n",
    "m = int(input(\"Enter the number of rows (m): \"))\n",
    "n = int(input(\"Enter the number of columns (n): \"))\n",
    "matrix = []\n",
    "print(\"Enter the elements row by row:\")\n",
    "\n",
    "for i in range(m):\n",
    "    row = list(map(int, input(f\"Enter row {i+1} elements: \").split()))\n",
    "    matrix.append(row)\n",
    "sum_of_rows(matrix)"
   ]
  },
  {
   "cell_type": "markdown",
   "id": "897322d8-3dde-4dca-b559-77b1b407ff7a",
   "metadata": {},
   "source": [
    "## 9. Write a program to add two matrices of size n x m."
   ]
  },
  {
   "cell_type": "code",
   "execution_count": 16,
   "id": "e0b086e8-f6a7-48d6-b6af-4adae2618551",
   "metadata": {},
   "outputs": [
    {
     "name": "stdin",
     "output_type": "stream",
     "text": [
      "Enter the number of rows:  2\n",
      "Enter the number of columns:  2\n"
     ]
    },
    {
     "name": "stdout",
     "output_type": "stream",
     "text": [
      "Enter the first matrix:\n"
     ]
    },
    {
     "name": "stdin",
     "output_type": "stream",
     "text": [
      " 1 2\n",
      " 4 5\n"
     ]
    },
    {
     "name": "stdout",
     "output_type": "stream",
     "text": [
      "Enter the second matrix:\n"
     ]
    },
    {
     "name": "stdin",
     "output_type": "stream",
     "text": [
      " 1 4\n",
      " 9 0\n"
     ]
    },
    {
     "name": "stdout",
     "output_type": "stream",
     "text": [
      "The resulting matrix is:\n",
      "2 6\n",
      "13 5\n"
     ]
    }
   ],
   "source": [
    "rows = int(input(\"Enter the number of rows: \"))\n",
    "cols = int(input(\"Enter the number of columns: \"))\n",
    "\n",
    "print(\"Enter the first matrix:\")\n",
    "matrix1 = []\n",
    "for i in range(rows):\n",
    "    matrix1.append(list(map(int, input().split())))\n",
    "\n",
    "print(\"Enter the second matrix:\")\n",
    "matrix2 = []\n",
    "for i in range(rows):\n",
    "    matrix2.append(list(map(int, input().split())))\n",
    "\n",
    "result = []\n",
    "for i in range(rows):\n",
    "    result.append([matrix1[i][j] + matrix2[i][j] for j in range(cols)])\n",
    "\n",
    "print(\"The resulting matrix is:\")\n",
    "for row in result:\n",
    "    print(*row)"
   ]
  },
  {
   "cell_type": "code",
   "execution_count": 18,
   "id": "0596e4f9-5183-4532-bbf3-64ad5ded8063",
   "metadata": {},
   "outputs": [
    {
     "name": "stdin",
     "output_type": "stream",
     "text": [
      "Enter the number of rows in the first matrix:  2\n",
      "Enter the number of columns in the first matrix:  2\n",
      "Enter the number of rows in the second matrix:  2\n",
      "Enter the number of columns in the second matrix:  2\n"
     ]
    },
    {
     "name": "stdout",
     "output_type": "stream",
     "text": [
      "Enter the first matrix row by row:\n"
     ]
    },
    {
     "name": "stdin",
     "output_type": "stream",
     "text": [
      " 2 4\n",
      " 5 6\n"
     ]
    },
    {
     "name": "stdout",
     "output_type": "stream",
     "text": [
      "Enter the second matrix row by row:\n"
     ]
    },
    {
     "name": "stdin",
     "output_type": "stream",
     "text": [
      " 6 7 \n",
      " 1 3\n"
     ]
    },
    {
     "name": "stdout",
     "output_type": "stream",
     "text": [
      "The resulting matrix is:\n",
      "16 26\n",
      "36 53\n"
     ]
    }
   ],
   "source": [
    "rows1 = int(input(\"Enter the number of rows in the first matrix: \"))\n",
    "cols1 = int(input(\"Enter the number of columns in the first matrix: \"))\n",
    "rows2 = int(input(\"Enter the number of rows in the second matrix: \"))\n",
    "cols2 = int(input(\"Enter the number of columns in the second matrix: \"))\n",
    "\n",
    "if cols1 != rows2:\n",
    "    print(\"Matrix multiplication is not possible with these dimensions.\")\n",
    "    exit()\n",
    "\n",
    "print(\"Enter the first matrix row by row:\")\n",
    "matrix1 = []\n",
    "for i in range(rows1):\n",
    "    matrix1.append(list(map(int, input().split())))\n",
    "\n",
    "print(\"Enter the second matrix row by row:\")\n",
    "matrix2 = []\n",
    "for i in range(rows2):\n",
    "    matrix2.append(list(map(int, input().split())))\n",
    "\n",
    "result = [[0 for _ in range(cols2)] for _ in range(rows1)]\n",
    "for i in range(rows1):\n",
    "    for j in range(cols2):\n",
    "        for k in range(cols1):\n",
    "            result[i][j] += matrix1[i][k] * matrix2[k][j]\n",
    "print(\"The resulting matrix is:\")\n",
    "for row in result:\n",
    "    print(*row)\n"
   ]
  }
 ],
 "metadata": {
  "kernelspec": {
   "display_name": "Python 3 (ipykernel)",
   "language": "python",
   "name": "python3"
  },
  "language_info": {
   "codemirror_mode": {
    "name": "ipython",
    "version": 3
   },
   "file_extension": ".py",
   "mimetype": "text/x-python",
   "name": "python",
   "nbconvert_exporter": "python",
   "pygments_lexer": "ipython3",
   "version": "3.12.7"
  }
 },
 "nbformat": 4,
 "nbformat_minor": 5
}
